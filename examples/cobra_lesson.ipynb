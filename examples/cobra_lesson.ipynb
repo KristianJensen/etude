{
 "cells": [
  {
   "cell_type": "markdown",
   "metadata": {},
   "source": [
    "# In-Silico Strain Development"
   ]
  },
  {
   "cell_type": "code",
   "execution_count": 1,
   "metadata": {
    "collapsed": false
   },
   "outputs": [
    {
     "data": {
      "text/html": [
       "<style>div.test_pass {\n",
       "    background-color: #f2fcf2;\n",
       "    border-color: #b5ffb4;\n",
       "    border-left: 5px solid #aaeeaa; //#dfb5b4;\n",
       "    padding: 0.5em;\n",
       "}\n",
       "\n",
       "div.test_fail {\n",
       "    background-color: #fcf2f2;\n",
       "    border-color: #dfb5b4;\n",
       "    border-left: 5px solid #dfb5b4;\n",
       "    padding: 0.5em;\n",
       "}\n",
       "\n",
       ".code_cell:nth-of-type(1) {\n",
       "    display: block;\n",
       "}</style>"
      ],
      "text/plain": [
       "<IPython.core.display.HTML object>"
      ]
     },
     "metadata": {},
     "output_type": "display_data"
    }
   ],
   "source": [
    "import exercise_test\n",
    "exercise_test.initialize('/Users/krisj/Documents/Pythonmodules/exercise_test/examples/cobra_lesson.py')"
   ]
  },
  {
   "cell_type": "markdown",
   "metadata": {},
   "source": [
    "\n",
    "## Introduction\n",
    "\n",
    "Welcome studious student,\n",
    "\n",
    "in this small course we will teach you the basics of how to work with metabolic models in all shapes and sizes. We want to show you how easy it is ~using modern tools and packages~ to come up with design strategies for microbial production strains of the future. When we say easy we mean: \"Look at me, I only needed these 100 odd lines of code to produce cumaric acid from methanol\" not \"Mwahaha, I just stole that baby's lolly\". Although, with some practice you may find both actions equally easy, regardless of how heinous they may seem to others.\n",
    "\n",
    "It is worth noticing that we expect you to be somewhat experienced in Python. If not, there are great tools for gaining experience:\n",
    "\n",
    "- At [codeacademy](https://www.codecademy.com/learn/python)\n",
    "- At [learnpython](http://www.learnpython.org).\n",
    "\n",
    "Go check them out.\n",
    "![alt text](http://www.relatably.com/m/img/do-it-memes/3155140.jpeg)\n"
   ]
  },
  {
   "cell_type": "markdown",
   "metadata": {},
   "source": [
    "## Lesson 1 - Input/output\n",
    "\n",
    "So, from [Lecture X, Slides ##-##](Link here), you know that metabolic models come in a range of different formats. You can also remember that there are several places on the web where they can reliably be obtained.\n",
    "\n",
    "Let's quickly recall the formats:\n",
    "- .xml aka SMBL\n",
    "- .json\n",
    "- .pickle\n",
    "\n",
    "And just for reference, here are the databases where a model for a bug of interest may be kept:\n",
    "- [UCSD's BiGG](http//:bigg.uscd.edu)\n",
    "- [University of Minho's GSM Database](http://darwin.di.uminho.pt/models)\n",
    "- [EMBL-EBI's BioModels Database](https://www.ebi.ac.uk/biomodels-main/)\n",
    "\n",
    "Cameo™ can not only import models in any of the above three formats, but it can also import models straight from the internetz, specifically from the previous two repositories, BiGG and Minho.\n",
    "\n",
    "#### Importing a model from the harddrive:\n",
    "To load a model from file use the command:\n",
    "\n",
    "   ```from cameo import load_model\n",
    "   load_model('PathToModel/Model.filetype')```\n",
    "\n",
    "   1. Go ahead and try loading the latest version of the SBML-formatted genome-scale metabolic model for <i>E. coli</i>, called iJO1366 below\n",
    "   2. Assign it as 'model'\n",
    "\n",
    "   hint: The file for iJO1366 is at the following path: /core/data/blabla/\n"
   ]
  },
  {
   "cell_type": "code",
   "execution_count": 5,
   "metadata": {
    "collapsed": false
   },
   "outputs": [
    {
     "data": {
      "text/html": [
       "\n",
       "        <div class='test_pass'>\n",
       "            <strong>Success:</strong> Good job!\n",
       "        </div>\n",
       "        "
      ],
      "text/plain": [
       "<IPython.core.display.HTML object>"
      ]
     },
     "metadata": {},
     "output_type": "display_data"
    }
   ],
   "source": [
    "%%run_exercise Lesson 1 - Input/output\n",
    "import cameo\n",
    "model = cameo.load_model(\"iJO1366\")"
   ]
  },
  {
   "cell_type": "code",
   "execution_count": null,
   "metadata": {
    "collapsed": true
   },
   "outputs": [],
   "source": []
  }
 ],
 "metadata": {
  "kernelspec": {
   "display_name": "Python 3",
   "language": "python",
   "name": "python3"
  },
  "language_info": {
   "codemirror_mode": {
    "name": "ipython",
    "version": 3
   },
   "file_extension": ".py",
   "mimetype": "text/x-python",
   "name": "python",
   "nbconvert_exporter": "python",
   "pygments_lexer": "ipython3",
   "version": "3.4.4"
  }
 },
 "nbformat": 4,
 "nbformat_minor": 0
}
