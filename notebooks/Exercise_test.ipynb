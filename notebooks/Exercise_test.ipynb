{
 "cells": [
  {
   "cell_type": "code",
   "execution_count": 1,
   "metadata": {},
   "outputs": [],
   "source": [
    "from IPython.core.magic import Magics, cell_magic, magics_class\n",
    "import unittest"
   ]
  },
  {
   "cell_type": "code",
   "execution_count": 2,
   "metadata": {},
   "outputs": [],
   "source": [
    "@magics_class\n",
    "class RunExerciseClass(Magics):\n",
    "    \n",
    "    def __init__(self, shell, namespace):\n",
    "        super(RunExerciseClass, self).__init__(shell)\n",
    "        self.namespace = namespace\n",
    "    \n",
    "    @cell_magic\n",
    "    def run_exercise(self, line, cell):\n",
    "        test = tests[line]\n",
    "        exec(cell, self.namespace)\n",
    "        try:\n",
    "            test(cell).debug()\n",
    "        except AssertionError as e:\n",
    "            err_msg = str(e)\n",
    "            fail = True\n",
    "        else:\n",
    "            fail = False\n",
    "        if fail:\n",
    "            print(\"Oops :-( you screwed up:\", err_msg)\n",
    "            #hint_please = ip.ask_yes_no(\"Do you want a hint???\")\n",
    "            #if hint_please:\n",
    "            #    print(\"WELL TOO BAD SUCKER!\")\n",
    "        else:\n",
    "            print(\"YAY You did it!\")\n",
    "        \n",
    "ip = get_ipython()\n",
    "magic = RunExerciseClass(ip, locals())\n",
    "ip.register_magics(magic)"
   ]
  },
  {
   "cell_type": "code",
   "execution_count": 3,
   "metadata": {},
   "outputs": [],
   "source": [
    "class Exercise(unittest.TestCase):\n",
    "    _name = None\n",
    "    longMessage = False\n",
    "    def __init__(self, cell, *args, **kwargs):\n",
    "        super(Exercise, self).__init__(*args, **kwargs)\n",
    "        self.cell = cell\n",
    "    \n",
    "    def runTest(self):\n",
    "        pass"
   ]
  },
  {
   "cell_type": "code",
   "execution_count": 9,
   "metadata": {},
   "outputs": [],
   "source": [
    "class Exercise1(Exercise):\n",
    "    \"\"\"\n",
    "    For this exercise you must define a function that sorts a list. Call it sort_function. \n",
    "    \"\"\"\n",
    "    _name = \"Exercise 1\"\n",
    "    \n",
    "    def cell_code(self):\n",
    "        \"\"\"\n",
    "        def sort_function(some_list):\n",
    "            pass # define your function here\n",
    "        \"\"\"\n",
    "    \n",
    "    def runTest(self):\n",
    "        self.assertFalse(\"sorted(\" in self.cell, msg=\"You cheated :( Don't use 'sorted()'\")\n",
    "        li = [2, 6, 9, 3, 10]\n",
    "        self.assertEqual(sort_function(li), sorted(li), \"The list is not sorted.\")\n",
    "\n",
    "tests = {obj._name: obj for obj in locals().values() if isinstance(obj, type) and issubclass(obj, Exercise)}"
   ]
  },
  {
   "cell_type": "markdown",
   "metadata": {},
   "source": [
    "# Exercise 1\n",
    "For this exercise you must define a function that sorts a list. Call it sort_function."
   ]
  },
  {
   "cell_type": "code",
   "execution_count": 12,
   "metadata": {},
   "outputs": [
    {
     "name": "stdout",
     "output_type": "stream",
     "text": [
      "YAY You did it!\n"
     ]
    }
   ],
   "source": [
    "%%run_exercise Exercise 1\n",
    "\n",
    "def sort_function(li):\n",
    "    li.sort()\n",
    "    return li"
   ]
  },
  {
   "cell_type": "code",
   "execution_count": null,
   "metadata": {},
   "outputs": [],
   "source": [
    ""
   ]
  }
 ],
 "metadata": {
  "kernelspec": {
   "display_name": "Python 3",
   "language": "python",
   "name": "python3"
  },
  "language_info": {
   "codemirror_mode": {
    "name": "ipython",
    "version": 3.0
   },
   "file_extension": ".py",
   "mimetype": "text/x-python",
   "name": "python",
   "nbconvert_exporter": "python",
   "pygments_lexer": "ipython3",
   "version": "3.4.4"
  }
 },
 "nbformat": 4,
 "nbformat_minor": 0
}